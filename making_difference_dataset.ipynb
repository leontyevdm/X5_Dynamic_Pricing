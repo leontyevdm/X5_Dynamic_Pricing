{
  "nbformat": 4,
  "nbformat_minor": 0,
  "metadata": {
    "colab": {
      "name": "making_difference_dataset.ipynb",
      "provenance": [],
      "collapsed_sections": []
    },
    "kernelspec": {
      "name": "python3",
      "display_name": "Python 3"
    },
    "language_info": {
      "name": "python"
    }
  },
  "cells": [
    {
      "cell_type": "code",
      "metadata": {
        "id": "AQpcwAwMyntM"
      },
      "source": [
        "import pandas as pd\n",
        "import datetime\n",
        "import matplotlib.pyplot as plt\n",
        "\n",
        "raw_df = pd.read_csv('aviasales_data_t (7).csv')\n",
        "raw_df\n",
        "iata_codes = ['MOW', 'LED', 'KZN', 'CEK', 'SVX', 'AER', 'KRR', 'KGD']    # Moscow, Saint Petersburg, Kazan, Chelyabinsk, Ekaterinburg, Sochi, Krasnodar, Kaliningrad\n",
        "iata_codes_extra = ['SGC', 'OVB', 'VVO', 'YKS']      # Surgut, Novosibirsk, Vladivostok, Yakutsk\n",
        "iata_codes_for_extra = ['MOW', 'LED', 'SVX']\n",
        "df = raw_df.loc[raw_df['departure_at'] < '2021-04-01']"
      ],
      "execution_count": 16,
      "outputs": []
    },
    {
      "cell_type": "code",
      "metadata": {
        "id": "2xMFkAN-6G4v"
      },
      "source": [
        "#на самом деле эти три цикла делают одно и то же, но полеты между крупными пересадочными узлами и средними городами вынесены по отдельности (круп-сред, сред-круп, круп-круп)\n",
        "for dest in iata_codes_extra:\n",
        "  for orig in iata_codes_for_extra:\n",
        "    print(orig,' ',dest)\n",
        "    orig_dest = df.loc[(df['destination'] == dest) & (df['origin'] == orig)]\n",
        "    sorted = orig_dest.sort_values(by=['departure_at', 'airline', 'requested_at'])\n",
        "    cur_price = 10000000\n",
        "    depart = ''\n",
        "    airline = ''\n",
        "    for index, row in sorted.iterrows():\n",
        "      if (int(row['price']) < cur_price - 500) and (row['departure_at'] == depart) and (row['airline'] == airline): #на маленькие ценовые изменения забиваем\n",
        "        print(row['price'],' ',cur_price, cur_price-int(row['price']))\n",
        "      depart = row['departure_at']\n",
        "      cur_price = int(row['price'])\n",
        "      airline = row['airline']\n",
        "    \n",
        "\n",
        "for orig in iata_codes_extra:\n",
        "  for dest in iata_codes_for_extra:\n",
        "    print(orig,' ',dest)\n",
        "    orig_dest = df.loc[(df['destination'] == dest) & (df['origin'] == orig)]\n",
        "    sorted = orig_dest.sort_values(by=['departure_at', 'airline', 'requested_at']) \n",
        "    cur_price = 10000000\n",
        "    depart = ''\n",
        "    airline = ''\n",
        "    for index, row in sorted.iterrows():\n",
        "      if (int(row['price']) < cur_price - 500) and (row['departure_at'] == depart) and (row['airline'] == airline): #на маленькие ценовые изменения забиваем\n",
        "        print(row['price'],' ',cur_price, cur_price-int(row['price']))\n",
        "      depart = row['departure_at']\n",
        "      cur_price = int(row['price'])\n",
        "      airline = row['airline']\n",
        "\n",
        "\n",
        "for dest in iata_codes:\n",
        "  for orig in iata_codes:\n",
        "    print(orig,' ',dest)\n",
        "    orig_dest = df.loc[(df['destination'] == dest) & (df['origin'] == orig)]\n",
        "    sorted = orig_dest.sort_values(by=['departure_at', 'airline', 'requested_at'])\n",
        "    cur_price = 10000000\n",
        "    depart = ''\n",
        "    airline = ''\n",
        "    for index, row in sorted.iterrows():\n",
        "      if (int(row['price']) < cur_price - 500) and (row['departure_at'] == depart) and (row['airline'] == airline): #на маленькие ценовые изменения забиваем\n",
        "        print(row['price'],' ',cur_price, cur_price-int(row['price']))\n",
        "      depart = row['departure_at']\n",
        "      cur_price = int(row['price'])\n",
        "      airline = row['airline']\n"
      ],
      "execution_count": null,
      "outputs": []
    },
    {
      "cell_type": "code",
      "metadata": {
        "id": "05CJCIMV7qrM",
        "colab": {
          "base_uri": "https://localhost:8080/",
          "height": 1000
        },
        "outputId": "66cb2945-9c31-4070-dcef-00bfcd26b33d"
      },
      "source": [
        "\n",
        "dest = 'SVX' #это тот же цикл, что и сверху, но для просмотра полетов из(в) конкретного аэропорта\n",
        "counter = 0\n",
        "for orig in iata_codes:\n",
        "  changes = pd.DataFrame(columns=['origin', 'difference', 'departure_at', 'requested_at', 'until_dep'])\n",
        "  orig_dest = df.loc[(df['destination'] == dest) & (df['origin'] == orig)]\n",
        "  sorted = orig_dest.sort_values(by=['departure_at', 'airline', 'requested_at'])\n",
        "  cur_price = 10000000\n",
        "  depart = ''\n",
        "  airline = ''\n",
        "  for index, row in sorted.iterrows():\n",
        "    if (int(row['price']) < cur_price - 500) and (row['departure_at'] == depart) and (row['airline'] == airline): #на маленькие ценовые изменения забиваем\n",
        "       #print(row['price'],' ',cur_price, cur_price-int(row['price']))\n",
        "       departure_at = datetime.datetime.strptime(row['departure_at'], \"%Y-%m-%dT%H:%M:%SZ\")\n",
        "       requested_at = datetime.datetime.strptime(row['requested_at'], \"%y-%m-%dT%H:%M:%SZ\")\n",
        "       changes.loc[counter] = [orig, cur_price-int(row['price']), departure_at, requested_at, departure_at - requested_at]\n",
        "       counter += 1\n",
        "    depart = row['departure_at']\n",
        "    cur_price = int(row['price'])\n",
        "    airline = row['airline']\n",
        "  print(orig, ' - SVX')\n",
        "  plt.plot(changes['until_dep'].astype('timedelta64[h]'), changes['difference'], 'ro')\n",
        "  plt.show()"
      ],
      "execution_count": 17,
      "outputs": [
        {
          "output_type": "stream",
          "text": [
            "MOW  - SVX\n"
          ],
          "name": "stdout"
        },
        {
          "output_type": "display_data",
          "data": {
            "image/png": "[encoded data removed]",
            "text/plain": [
              "<Figure size 432x288 with 1 Axes>"
            ]
          },
          "metadata": {
            "tags": [],
            "needs_background": "light"
          }
        },
        {
          "output_type": "stream",
          "text": [
            "LED  - SVX\n"
          ],
          "name": "stdout"
        },
        {
          "output_type": "display_data",
          "data": {
            "image/png": "[encoded data removed]",
            "text/plain": [
              "<Figure size 432x288 with 1 Axes>"
            ]
          },
          "metadata": {
            "tags": [],
            "needs_background": "light"
          }
        },
        {
          "output_type": "stream",
          "text": [
            "KZN  - SVX\n"
          ],
          "name": "stdout"
        },
        {
          "output_type": "display_data",
          "data": {
            "image/png": "[encoded data removed]",
            "text/plain": [
              "<Figure size 432x288 with 1 Axes>"
            ]
          },
          "metadata": {
            "tags": [],
            "needs_background": "light"
          }
        },
        {
          "output_type": "stream",
          "text": [
            "CEK  - SVX\n"
          ],
          "name": "stdout"
        },
        {
          "output_type": "display_data",
          "data": {
            "image/png": "[encoded data removed]",
            "text/plain": [
              "<Figure size 432x288 with 1 Axes>"
            ]
          },
          "metadata": {
            "tags": [],
            "needs_background": "light"
          }
        },
        {
          "output_type": "stream",
          "text": [
            "SVX  - SVX\n"
          ],
          "name": "stdout"
        },
        {
          "output_type": "display_data",
          "data": {
            "image/png": "[encoded data removed]",
            "text/plain": [
              "<Figure size 432x288 with 1 Axes>"
            ]
          },
          "metadata": {
            "tags": [],
            "needs_background": "light"
          }
        },
        {
          "output_type": "stream",
          "text": [
            "AER  - SVX\n"
          ],
          "name": "stdout"
        },
        {
          "output_type": "display_data",
          "data": {
            "image/png": "[encoded data removed]",
            "text/plain": [
              "<Figure size 432x288 with 1 Axes>"
            ]
          },
          "metadata": {
            "tags": [],
            "needs_background": "light"
          }
        },
        {
          "output_type": "stream",
          "text": [
            "KRR  - SVX\n"
          ],
          "name": "stdout"
        },
        {
          "output_type": "display_data",
          "data": {
            "image/png": "[encoded data removed]",
            "text/plain": [
              "<Figure size 432x288 with 1 Axes>"
            ]
          },
          "metadata": {
            "tags": [],
            "needs_background": "light"
          }
        },
        {
          "output_type": "stream",
          "text": [
            "KGD  - SVX\n"
          ],
          "name": "stdout"
        },
        {
          "output_type": "display_data",
          "data": {
            "image/png": "[encoded data removed]",
            "text/plain": [
              "<Figure size 432x288 with 1 Axes>"
            ]
          },
          "metadata": {
            "tags": [],
            "needs_background": "light"
          }
        }
      ]
    },
    {
      "cell_type": "code",
      "metadata": {
        "id": "-hAK63_uEmYD",
        "colab": {
          "base_uri": "https://localhost:8080/",
          "height": 667
        },
        "outputId": "c88a5e40-85d9-4c87-ecc7-e7655202cbce"
      },
      "source": [
        "dest = 'SVX'\n",
        "orig = 'AER'\n",
        "changes = pd.DataFrame(columns=['origin', 'destination', 'difference', 'new_price', 'departure_at', 'requested_at', 'until_dep'])\n",
        "counter = 0\n",
        "orig_dest = df.loc[(df['destination'] == dest) & (df['origin'] == orig)]\n",
        "sorted = orig_dest.sort_values(by=['departure_at', 'airline', 'requested_at'])\n",
        "cur_price = 10000000\n",
        "depart = ''\n",
        "airline = ''\n",
        "for index, row in sorted.iterrows():\n",
        "  if (int(row['price']) != cur_price) and (row['departure_at'] == depart) and (row['airline'] == airline):\n",
        "    #print(row['price'],' ',cur_price, cur_price-int(row['price']))\n",
        "    departure_at = datetime.datetime.strptime(row['departure_at'], \"%Y-%m-%dT%H:%M:%SZ\")\n",
        "    requested_at = datetime.datetime.strptime(row['requested_at'], \"%y-%m-%dT%H:%M:%SZ\")\n",
        "    changes.loc[counter] = [orig, dest, cur_price-int(row['price']), int(row['price']), departure_at, requested_at, departure_at - requested_at]\n",
        "    counter += 1\n",
        "  depart = row['departure_at']\n",
        "  cur_price = int(row['price'])    \n",
        "  airline = row['airline']\n",
        "plt.plot(changes['until_dep'].astype('timedelta64[h]'), changes['difference'], 'ro')\n",
        "changes"
      ],
      "execution_count": 19,
      "outputs": [
        {
          "output_type": "execute_result",
          "data": {
            "text/html": [
              "<div>\n",
              "<style scoped>\n",
              "    .dataframe tbody tr th:only-of-type {\n",
              "        vertical-align: middle;\n",
              "    }\n",
              "\n",
              "    .dataframe tbody tr th {\n",
              "        vertical-align: top;\n",
              "    }\n",
              "\n",
              "    .dataframe thead th {\n",
              "        text-align: right;\n",
              "    }\n",
              "</style>\n",
              "<table border=\"1\" class=\"dataframe\">\n",
              "  <thead>\n",
              "    <tr style=\"text-align: right;\">\n",
              "      <th></th>\n",
              "      <th>origin</th>\n",
              "      <th>destination</th>\n",
              "      <th>difference</th>\n",
              "      <th>new_price</th>\n",
              "      <th>departure_at</th>\n",
              "      <th>requested_at</th>\n",
              "      <th>until_dep</th>\n",
              "    </tr>\n",
              "  </thead>\n",
              "  <tbody>\n",
              "    <tr>\n",
              "      <th>0</th>\n",
              "      <td>AER</td>\n",
              "      <td>SVX</td>\n",
              "      <td>77</td>\n",
              "      <td>14339</td>\n",
              "      <td>2021-03-08 13:55:00</td>\n",
              "      <td>2021-03-06 16:05:28</td>\n",
              "      <td>1 days 21:49:32</td>\n",
              "    </tr>\n",
              "    <tr>\n",
              "      <th>1</th>\n",
              "      <td>AER</td>\n",
              "      <td>SVX</td>\n",
              "      <td>-1</td>\n",
              "      <td>14340</td>\n",
              "      <td>2021-03-08 13:55:00</td>\n",
              "      <td>2021-03-07 00:43:58</td>\n",
              "      <td>1 days 13:11:02</td>\n",
              "    </tr>\n",
              "    <tr>\n",
              "      <th>2</th>\n",
              "      <td>AER</td>\n",
              "      <td>SVX</td>\n",
              "      <td>138</td>\n",
              "      <td>14577</td>\n",
              "      <td>2021-03-09 16:50:00</td>\n",
              "      <td>2021-03-08 00:29:40</td>\n",
              "      <td>1 days 16:20:20</td>\n",
              "    </tr>\n",
              "    <tr>\n",
              "      <th>3</th>\n",
              "      <td>AER</td>\n",
              "      <td>SVX</td>\n",
              "      <td>-75</td>\n",
              "      <td>13089</td>\n",
              "      <td>2021-03-09 17:25:00</td>\n",
              "      <td>2021-03-06 16:05:28</td>\n",
              "      <td>3 days 01:19:32</td>\n",
              "    </tr>\n",
              "    <tr>\n",
              "      <th>4</th>\n",
              "      <td>AER</td>\n",
              "      <td>SVX</td>\n",
              "      <td>-1695</td>\n",
              "      <td>14784</td>\n",
              "      <td>2021-03-09 17:25:00</td>\n",
              "      <td>2021-03-07 00:43:58</td>\n",
              "      <td>2 days 16:41:02</td>\n",
              "    </tr>\n",
              "    <tr>\n",
              "      <th>...</th>\n",
              "      <td>...</td>\n",
              "      <td>...</td>\n",
              "      <td>...</td>\n",
              "      <td>...</td>\n",
              "      <td>...</td>\n",
              "      <td>...</td>\n",
              "      <td>...</td>\n",
              "    </tr>\n",
              "    <tr>\n",
              "      <th>407</th>\n",
              "      <td>AER</td>\n",
              "      <td>SVX</td>\n",
              "      <td>1086</td>\n",
              "      <td>10037</td>\n",
              "      <td>2021-03-31 21:05:00</td>\n",
              "      <td>2021-03-20 18:30:02</td>\n",
              "      <td>11 days 02:34:58</td>\n",
              "    </tr>\n",
              "    <tr>\n",
              "      <th>408</th>\n",
              "      <td>AER</td>\n",
              "      <td>SVX</td>\n",
              "      <td>-1086</td>\n",
              "      <td>11123</td>\n",
              "      <td>2021-03-31 21:05:00</td>\n",
              "      <td>2021-03-21 00:30:02</td>\n",
              "      <td>10 days 20:34:58</td>\n",
              "    </tr>\n",
              "    <tr>\n",
              "      <th>409</th>\n",
              "      <td>AER</td>\n",
              "      <td>SVX</td>\n",
              "      <td>1086</td>\n",
              "      <td>10037</td>\n",
              "      <td>2021-03-31 21:05:00</td>\n",
              "      <td>2021-03-21 06:30:02</td>\n",
              "      <td>10 days 14:34:58</td>\n",
              "    </tr>\n",
              "    <tr>\n",
              "      <th>410</th>\n",
              "      <td>AER</td>\n",
              "      <td>SVX</td>\n",
              "      <td>-3077</td>\n",
              "      <td>13114</td>\n",
              "      <td>2021-03-31 21:05:00</td>\n",
              "      <td>2021-03-30 18:30:03</td>\n",
              "      <td>1 days 02:34:57</td>\n",
              "    </tr>\n",
              "    <tr>\n",
              "      <th>411</th>\n",
              "      <td>AER</td>\n",
              "      <td>SVX</td>\n",
              "      <td>854</td>\n",
              "      <td>12260</td>\n",
              "      <td>2021-03-31 21:05:00</td>\n",
              "      <td>2021-03-31 12:30:06</td>\n",
              "      <td>0 days 08:34:54</td>\n",
              "    </tr>\n",
              "  </tbody>\n",
              "</table>\n",
              "<p>412 rows × 7 columns</p>\n",
              "</div>"
            ],
            "text/plain": [
              "    origin destination  ...        requested_at        until_dep\n",
              "0      AER         SVX  ... 2021-03-06 16:05:28  1 days 21:49:32\n",
              "1      AER         SVX  ... 2021-03-07 00:43:58  1 days 13:11:02\n",
              "2      AER         SVX  ... 2021-03-08 00:29:40  1 days 16:20:20\n",
              "3      AER         SVX  ... 2021-03-06 16:05:28  3 days 01:19:32\n",
              "4      AER         SVX  ... 2021-03-07 00:43:58  2 days 16:41:02\n",
              "..     ...         ...  ...                 ...              ...\n",
              "407    AER         SVX  ... 2021-03-20 18:30:02 11 days 02:34:58\n",
              "408    AER         SVX  ... 2021-03-21 00:30:02 10 days 20:34:58\n",
              "409    AER         SVX  ... 2021-03-21 06:30:02 10 days 14:34:58\n",
              "410    AER         SVX  ... 2021-03-30 18:30:03  1 days 02:34:57\n",
              "411    AER         SVX  ... 2021-03-31 12:30:06  0 days 08:34:54\n",
              "\n",
              "[412 rows x 7 columns]"
            ]
          },
          "metadata": {
            "tags": []
          },
          "execution_count": 19
        },
        {
          "output_type": "display_data",
          "data": {
            "image/png": "[encoded data removed]",
            "text/plain": [
              "<Figure size 432x288 with 1 Axes>"
            ]
          },
          "metadata": {
            "tags": [],
            "needs_background": "light"
          }
        }
      ]
    }
  ]
}